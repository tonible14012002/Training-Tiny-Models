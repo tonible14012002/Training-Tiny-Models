{
 "cells": [
  {
   "cell_type": "code",
   "execution_count": 6,
   "id": "7797cd54",
   "metadata": {},
   "outputs": [
    {
     "name": "stdout",
     "output_type": "stream",
     "text": [
      "The autoreload extension is already loaded. To reload it, use:\n",
      "  %reload_ext autoreload\n",
      "✓ Project root: /Users/maroon/workspace/tiny-model-tunning/finetune\n",
      "✓ Paths added to sys.path\n"
     ]
    }
   ],
   "source": [
    "# Enable auto-reload for imported modules\n",
    "%load_ext autoreload\n",
    "%autoreload 2\n",
    "\n",
    "import sys\n",
    "from pathlib import Path\n",
    "\n",
    "# Get project root (from training/notebooks/ go up 2 levels)\n",
    "project_root = Path.cwd().parent.parent\n",
    "\n",
    "print(f\"✓ Project root: {project_root}\")\n",
    "\n",
    "# Add paths\n",
    "sys.path.insert(0, str(project_root))\n",
    "\n",
    "# Verify paths\n",
    "print(\"✓ Paths added to sys.path\")\n",
    "\n",
    "from training import settings\n",
    "import os\n",
    "\n",
    "os.environ[\"TRANSFORMERS_CACHE\"] = str(settings.TRANSFORMER_CACHE_DIR)\n",
    "os.environ[\"HF_HOME\"] = str(settings.TRANSFORMER_DATASETS_DIR)"
   ]
  },
  {
   "cell_type": "code",
   "execution_count": 2,
   "id": "3aaf550e",
   "metadata": {},
   "outputs": [],
   "source": [
    "# Load dsets\n",
    "import json\n",
    "\n",
    "with open('/Users/maroon/workspace/tiny-model-tunning/finetune/ds.json', 'r') as f:\n",
    "    dsets = json.load(f)\n",
    "\n",
    "\n",
    "newDs = []\n",
    "\n",
    "# Change the label from \"PAYMENT\" to 1 and \"NON-PAYMENT\" to 0\n",
    "for item in dsets:\n",
    "    newItem = {}\n",
    "    newItem['text'] = item['message']\n",
    "    if item['label'] == \"PAYMENT\":\n",
    "        newItem['label'] = 1\n",
    "    else:\n",
    "        newItem['label'] = 0\n",
    "    newDs.append(newItem)\n",
    "\n",
    "with open('ds_flattened.json', 'w') as f:\n",
    "    json.dump(newDs, f, indent=2)\n"
   ]
  },
  {
   "cell_type": "code",
   "execution_count": 2,
   "id": "d63bdd5e",
   "metadata": {},
   "outputs": [],
   "source": [
    "import json\n",
    "import random\n",
    "with open('/Users/maroon/workspace/tiny-model-tunning/finetune/ds_flattened.json', 'r') as f:\n",
    "    dsets = json.load(f)\n",
    "\n",
    "random.shuffle(dsets)\n",
    "with open('ds_flattened_shuffled.json', 'w') as f:\n",
    "    json.dump(dsets, f, indent=2)   \n"
   ]
  }
 ],
 "metadata": {
  "kernelspec": {
   "display_name": "tiny-model",
   "language": "python",
   "name": "python3"
  },
  "language_info": {
   "codemirror_mode": {
    "name": "ipython",
    "version": 3
   },
   "file_extension": ".py",
   "mimetype": "text/x-python",
   "name": "python",
   "nbconvert_exporter": "python",
   "pygments_lexer": "ipython3",
   "version": "3.12.7"
  }
 },
 "nbformat": 4,
 "nbformat_minor": 5
}
