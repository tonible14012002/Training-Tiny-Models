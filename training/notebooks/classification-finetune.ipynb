{
 "cells": [
  {
   "cell_type": "code",
   "execution_count": null,
   "id": "1a6b63d4",
   "metadata": {},
   "outputs": [
    {
     "name": "stdout",
     "output_type": "stream",
     "text": [
      "✓ Paths added to sys.path\n"
     ]
    }
   ],
   "source": [
    "# Enable auto-reload for imported modules\n",
    "%load_ext autoreload\n",
    "%autoreload 2\n",
    "\n",
    "import sys\n",
    "from pathlib import Path\n",
    "\n",
    "# Get project root (from training/notebooks/ go up 2 levels)\n",
    "project_root = Path.cwd().parent.parent  \n",
    "\n",
    "# Add paths\n",
    "sys.path.insert(0, str(project_root))\n",
    "\n",
    "# Verify paths\n",
    "print(\"✓ Paths added to sys.path\")\n",
    "\n",
    "from training import settings\n",
    "import os\n",
    "\n",
    "os.environ[\"TRANSFORMERS_CACHE\"] = str(settings.TRANSFORMER_CACHE_DIR)\n",
    "os.environ[\"HF_HOME\"] = str(settings.TRANSFORMER_DATASETS_DIR)"
   ]
  },
  {
   "cell_type": "code",
   "execution_count": null,
   "id": "f0b5b7e9",
   "metadata": {},
   "outputs": [],
   "source": [
    "import os\n",
    "\n",
    "class Settings:\n",
    "    TRANSFORMER_CACHE_DIR = \"\"\n",
    "    TRANSFORMER_DATASETS_DIR = \"\"\n",
    "    HUGGINGFACE_HUB_TOKEN = \"\"\n",
    "\n",
    "settings = Settings()\n",
    "\n",
    "os.environ[\"TRANSFORMERS_CACHE\"] = str(settings.TRANSFORMER_CACHE_DIR)\n",
    "os.environ[\"HF_HOME\"] = str(settings.TRANSFORMER_DATASETS_DIR)"
   ]
  },
  {
   "cell_type": "markdown",
   "id": "b0f7445e",
   "metadata": {},
   "source": [
    "### Fine Tune Configuration"
   ]
  },
  {
   "cell_type": "code",
   "execution_count": null,
   "id": "04b07e6a",
   "metadata": {},
   "outputs": [],
   "source": [
    "from peft import LoraConfig, TaskType\n",
    "from transformers import TrainingArguments\n",
    "\n",
    "HUGGINGFACE_MODEL_ID = \"prajjwal1/bert-tiny\"\n",
    "DTYPE = \"auto\"\n",
    "\n",
    "LABEL_NUMS = 2\n",
    "\n",
    "LABEL2IDS = {\"payment\": 1, \"not payment\": 0}\n",
    "ID2LABELS = {v: k for k, v in LABEL2IDS.items()}\n",
    "\n",
    "LORA_CONFIG=LoraConfig(\n",
    "    r=8,\n",
    "    lora_alpha=32,\n",
    "    task_type=TaskType.SEQ_CLS,\n",
    "    # lora_dropout=0.1,\n",
    "    # bias=\"none\",\n",
    ")\n",
    "\n",
    "\n",
    "CHECKPOINTS_OUTPUT_DIR = \"./.checkpoints/\"\n",
    "\n",
    "TRAINING_ARGS = TrainingArguments(\n",
    "    output_dir=CHECKPOINTS_OUTPUT_DIR,\n",
    "    eval_strategy=\"epoch\",\n",
    "    save_strategy=\"epoch\",\n",
    "    logging_strategy=\"epoch\",\n",
    "    learning_rate=2e-4,\n",
    "    per_device_train_batch_size=8,\n",
    "    per_device_eval_batch_size=8,\n",
    "    num_train_epochs=20,\n",
    "    load_best_model_at_end=True,\n",
    "    push_to_hub=True,\n",
    ")\n"
   ]
  },
  {
   "cell_type": "markdown",
   "id": "edb79def",
   "metadata": {},
   "source": [
    "### Load Base Model"
   ]
  },
  {
   "cell_type": "code",
   "execution_count": 38,
   "id": "c7708f20",
   "metadata": {},
   "outputs": [
    {
     "name": "stderr",
     "output_type": "stream",
     "text": [
      "Some weights of BertForSequenceClassification were not initialized from the model checkpoint at prajjwal1/bert-tiny and are newly initialized: ['classifier.bias', 'classifier.weight']\n",
      "You should probably TRAIN this model on a down-stream task to be able to use it for predictions and inference.\n"
     ]
    },
    {
     "name": "stdout",
     "output_type": "stream",
     "text": [
      "trainable params: 8,450 || all params: 4,394,628 || trainable%: 0.1923\n"
     ]
    }
   ],
   "source": [
    "from transformers import AutoModelForSequenceClassification, AutoTokenizer\n",
    "from peft import get_peft_model\n",
    "import torch\n",
    "\n",
    "device = torch.accelerator.current_accelerator().type if hasattr(torch, \"accelerator\") else \"cuda\"\n",
    "\n",
    "model = AutoModelForSequenceClassification.from_pretrained(HUGGINGFACE_MODEL_ID, dtype=DTYPE, label2id=LABEL2IDS, id2label=ID2LABELS).to(device)\n",
    "tokenizer = AutoTokenizer.from_pretrained(HUGGINGFACE_MODEL_ID, dtype=DTYPE)\n",
    "\n",
    "peft_model = get_peft_model(model, LORA_CONFIG)\n",
    "peft_model.print_trainable_parameters()"
   ]
  },
  {
   "cell_type": "markdown",
   "id": "81a78ae8",
   "metadata": {},
   "source": [
    "### Dataset Load\n",
    "the code snippet should include a Dataset instance of `train_dataset`, `test_dataset`, `eval_dataset`"
   ]
  },
  {
   "cell_type": "code",
   "execution_count": 39,
   "id": "4c581a72",
   "metadata": {},
   "outputs": [
    {
     "name": "stdout",
     "output_type": "stream",
     "text": [
      "✓ Loaded dataset with 267 training samples and 30 test samples\n"
     ]
    }
   ],
   "source": [
    "# from transformers import Trainer, TrainingArguments\n",
    "from datasets import Dataset, Features, Value, ClassLabel, List\n",
    "\n",
    "ds_path = os.path.join(settings.BASE_DIR, \"training/data/dataset.json\")\n",
    "\n",
    "labels = [0, 1]\n",
    "dataset_features = Features({\n",
    "    'text': Value('string'),\n",
    "    'label': ClassLabel(names=labels),\n",
    "    'tags': List(Value('string'))\n",
    "})\n",
    "\n",
    "dataset = Dataset.from_json(ds_path, features=dataset_features)\n",
    "dataset = dataset.train_test_split(test_size=0.1, seed=12)\n",
    "\n",
    "# Use for fine-tuning\n",
    "train_dataset = dataset['train']\n",
    "test_dataset = dataset['test']\n",
    "print(f\"✓ Loaded dataset with {len(train_dataset)} training samples and {len(test_dataset)} test samples\")"
   ]
  },
  {
   "cell_type": "markdown",
   "id": "e6a8ccd4",
   "metadata": {},
   "source": [
    "### Metric Computation Function"
   ]
  },
  {
   "cell_type": "code",
   "execution_count": 40,
   "id": "cb728140",
   "metadata": {},
   "outputs": [],
   "source": [
    "# load metrics\n",
    "import evaluate\n",
    "import numpy as np\n",
    "\n",
    "accuracy = evaluate.load(\"accuracy\")\n",
    "auc_score = evaluate.load(\"roc_auc\")\n",
    "\n",
    "def compute_metrics(eval_pred):\n",
    "    # get predictions\n",
    "    predictions, labels = eval_pred\n",
    "\n",
    "    # apply softmax to get probabilities\n",
    "    probabilities = np.exp(predictions) / np.exp(predictions).sum(-1, keepdims=True)\n",
    "    # use probabilities of the positive class for ROC AUC\n",
    "    positive_class_probs = probabilities[:, 1]\n",
    "    # compute auc\n",
    "    auc = np.round(auc_score.compute(prediction_scores=positive_class_probs, references=labels)['roc_auc'],3)\n",
    "    \n",
    "    # predict most probable class\n",
    "    predicted_classes = np.argmax(predictions, axis=1)\n",
    "    # compute accuracy\n",
    "    acc = np.round(accuracy.compute(predictions=predicted_classes, references=labels)['accuracy'],3)\n",
    "    \n",
    "    return {\"Accuracy\": acc, \"AUC\": auc}"
   ]
  },
  {
   "cell_type": "markdown",
   "id": "a6e59c37",
   "metadata": {},
   "source": [
    "### Preprocessing Sample Method\n",
    "The method should map correct the field to be input to model"
   ]
  },
  {
   "cell_type": "code",
   "execution_count": 41,
   "id": "812d4999",
   "metadata": {},
   "outputs": [
    {
     "name": "stderr",
     "output_type": "stream",
     "text": [
      "Map: 100%|██████████| 267/267 [00:00<00:00, 11794.41 examples/s]\n",
      "Map: 100%|██████████| 30/30 [00:00<00:00, 6799.37 examples/s]"
     ]
    },
    {
     "name": "stdout",
     "output_type": "stream",
     "text": [
      "✓ Tokenized the dataset\n"
     ]
    },
    {
     "name": "stderr",
     "output_type": "stream",
     "text": [
      "\n"
     ]
    }
   ],
   "source": [
    "def preprocess_function(examples):\n",
    "    return tokenizer(examples[\"text\"], truncation=True, padding='max_length', max_length=128)\n",
    "\n",
    "train_tokenized_data  = train_dataset.map(preprocess_function, batched=True)\n",
    "test_tokenized_data  = test_dataset.map(preprocess_function, batched=True)\n",
    "\n",
    "print(\"✓ Tokenized the dataset\")"
   ]
  },
  {
   "cell_type": "code",
   "execution_count": 42,
   "id": "462ee7a8",
   "metadata": {},
   "outputs": [
    {
     "name": "stderr",
     "output_type": "stream",
     "text": [
      "/var/folders/mk/6c060wrs53v9n046c27mf8tm0000gn/T/ipykernel_8770/4125171041.py:4: FutureWarning: `tokenizer` is deprecated and will be removed in version 5.0.0 for `Trainer.__init__`. Use `processing_class` instead.\n",
      "  trainer = Trainer(\n",
      "/Users/maroon/.pyenv/versions/3.12.7/envs/tiny-model/lib/python3.12/site-packages/torch/utils/data/dataloader.py:683: UserWarning: 'pin_memory' argument is set as true but not supported on MPS now, then device pinned memory won't be used.\n",
      "  warnings.warn(warn_msg)\n"
     ]
    },
    {
     "data": {
      "text/html": [
       "\n",
       "    <div>\n",
       "      \n",
       "      <progress value='680' max='680' style='width:300px; height:20px; vertical-align: middle;'></progress>\n",
       "      [680/680 00:31, Epoch 20/20]\n",
       "    </div>\n",
       "    <table border=\"1\" class=\"dataframe\">\n",
       "  <thead>\n",
       " <tr style=\"text-align: left;\">\n",
       "      <th>Epoch</th>\n",
       "      <th>Training Loss</th>\n",
       "      <th>Validation Loss</th>\n",
       "      <th>Accuracy</th>\n",
       "      <th>Auc</th>\n",
       "    </tr>\n",
       "  </thead>\n",
       "  <tbody>\n",
       "    <tr>\n",
       "      <td>1</td>\n",
       "      <td>0.680800</td>\n",
       "      <td>0.604378</td>\n",
       "      <td>0.767000</td>\n",
       "      <td>0.727000</td>\n",
       "    </tr>\n",
       "    <tr>\n",
       "      <td>2</td>\n",
       "      <td>0.621700</td>\n",
       "      <td>0.591411</td>\n",
       "      <td>0.900000</td>\n",
       "      <td>0.727000</td>\n",
       "    </tr>\n",
       "    <tr>\n",
       "      <td>3</td>\n",
       "      <td>0.539600</td>\n",
       "      <td>0.501782</td>\n",
       "      <td>0.900000</td>\n",
       "      <td>0.750000</td>\n",
       "    </tr>\n",
       "    <tr>\n",
       "      <td>4</td>\n",
       "      <td>0.415200</td>\n",
       "      <td>0.406405</td>\n",
       "      <td>0.900000</td>\n",
       "      <td>0.778000</td>\n",
       "    </tr>\n",
       "    <tr>\n",
       "      <td>5</td>\n",
       "      <td>0.291400</td>\n",
       "      <td>0.327425</td>\n",
       "      <td>0.900000</td>\n",
       "      <td>0.818000</td>\n",
       "    </tr>\n",
       "    <tr>\n",
       "      <td>6</td>\n",
       "      <td>0.213900</td>\n",
       "      <td>0.288262</td>\n",
       "      <td>0.900000</td>\n",
       "      <td>0.812000</td>\n",
       "    </tr>\n",
       "    <tr>\n",
       "      <td>7</td>\n",
       "      <td>0.151600</td>\n",
       "      <td>0.271334</td>\n",
       "      <td>0.933000</td>\n",
       "      <td>0.812000</td>\n",
       "    </tr>\n",
       "    <tr>\n",
       "      <td>8</td>\n",
       "      <td>0.154500</td>\n",
       "      <td>0.269489</td>\n",
       "      <td>0.933000</td>\n",
       "      <td>0.824000</td>\n",
       "    </tr>\n",
       "    <tr>\n",
       "      <td>9</td>\n",
       "      <td>0.115600</td>\n",
       "      <td>0.270818</td>\n",
       "      <td>0.933000</td>\n",
       "      <td>0.841000</td>\n",
       "    </tr>\n",
       "    <tr>\n",
       "      <td>10</td>\n",
       "      <td>0.105400</td>\n",
       "      <td>0.274655</td>\n",
       "      <td>0.933000</td>\n",
       "      <td>0.852000</td>\n",
       "    </tr>\n",
       "    <tr>\n",
       "      <td>11</td>\n",
       "      <td>0.085300</td>\n",
       "      <td>0.276452</td>\n",
       "      <td>0.933000</td>\n",
       "      <td>0.864000</td>\n",
       "    </tr>\n",
       "    <tr>\n",
       "      <td>12</td>\n",
       "      <td>0.087500</td>\n",
       "      <td>0.285272</td>\n",
       "      <td>0.933000</td>\n",
       "      <td>0.852000</td>\n",
       "    </tr>\n",
       "    <tr>\n",
       "      <td>13</td>\n",
       "      <td>0.074300</td>\n",
       "      <td>0.293485</td>\n",
       "      <td>0.933000</td>\n",
       "      <td>0.852000</td>\n",
       "    </tr>\n",
       "    <tr>\n",
       "      <td>14</td>\n",
       "      <td>0.063500</td>\n",
       "      <td>0.291049</td>\n",
       "      <td>0.933000</td>\n",
       "      <td>0.858000</td>\n",
       "    </tr>\n",
       "    <tr>\n",
       "      <td>15</td>\n",
       "      <td>0.071600</td>\n",
       "      <td>0.296802</td>\n",
       "      <td>0.933000</td>\n",
       "      <td>0.847000</td>\n",
       "    </tr>\n",
       "    <tr>\n",
       "      <td>16</td>\n",
       "      <td>0.078200</td>\n",
       "      <td>0.297974</td>\n",
       "      <td>0.933000</td>\n",
       "      <td>0.864000</td>\n",
       "    </tr>\n",
       "    <tr>\n",
       "      <td>17</td>\n",
       "      <td>0.070400</td>\n",
       "      <td>0.300619</td>\n",
       "      <td>0.933000</td>\n",
       "      <td>0.864000</td>\n",
       "    </tr>\n",
       "    <tr>\n",
       "      <td>18</td>\n",
       "      <td>0.047200</td>\n",
       "      <td>0.301185</td>\n",
       "      <td>0.933000</td>\n",
       "      <td>0.864000</td>\n",
       "    </tr>\n",
       "    <tr>\n",
       "      <td>19</td>\n",
       "      <td>0.052100</td>\n",
       "      <td>0.302091</td>\n",
       "      <td>0.933000</td>\n",
       "      <td>0.864000</td>\n",
       "    </tr>\n",
       "    <tr>\n",
       "      <td>20</td>\n",
       "      <td>0.044900</td>\n",
       "      <td>0.301993</td>\n",
       "      <td>0.933000</td>\n",
       "      <td>0.864000</td>\n",
       "    </tr>\n",
       "  </tbody>\n",
       "</table><p>"
      ],
      "text/plain": [
       "<IPython.core.display.HTML object>"
      ]
     },
     "metadata": {},
     "output_type": "display_data"
    },
    {
     "name": "stderr",
     "output_type": "stream",
     "text": [
      "/Users/maroon/.pyenv/versions/3.12.7/envs/tiny-model/lib/python3.12/site-packages/torch/utils/data/dataloader.py:683: UserWarning: 'pin_memory' argument is set as true but not supported on MPS now, then device pinned memory won't be used.\n",
      "  warnings.warn(warn_msg)\n",
      "/Users/maroon/.pyenv/versions/3.12.7/envs/tiny-model/lib/python3.12/site-packages/torch/utils/data/dataloader.py:683: UserWarning: 'pin_memory' argument is set as true but not supported on MPS now, then device pinned memory won't be used.\n",
      "  warnings.warn(warn_msg)\n",
      "/Users/maroon/.pyenv/versions/3.12.7/envs/tiny-model/lib/python3.12/site-packages/torch/utils/data/dataloader.py:683: UserWarning: 'pin_memory' argument is set as true but not supported on MPS now, then device pinned memory won't be used.\n",
      "  warnings.warn(warn_msg)\n",
      "/Users/maroon/.pyenv/versions/3.12.7/envs/tiny-model/lib/python3.12/site-packages/torch/utils/data/dataloader.py:683: UserWarning: 'pin_memory' argument is set as true but not supported on MPS now, then device pinned memory won't be used.\n",
      "  warnings.warn(warn_msg)\n",
      "/Users/maroon/.pyenv/versions/3.12.7/envs/tiny-model/lib/python3.12/site-packages/torch/utils/data/dataloader.py:683: UserWarning: 'pin_memory' argument is set as true but not supported on MPS now, then device pinned memory won't be used.\n",
      "  warnings.warn(warn_msg)\n",
      "/Users/maroon/.pyenv/versions/3.12.7/envs/tiny-model/lib/python3.12/site-packages/torch/utils/data/dataloader.py:683: UserWarning: 'pin_memory' argument is set as true but not supported on MPS now, then device pinned memory won't be used.\n",
      "  warnings.warn(warn_msg)\n",
      "/Users/maroon/.pyenv/versions/3.12.7/envs/tiny-model/lib/python3.12/site-packages/torch/utils/data/dataloader.py:683: UserWarning: 'pin_memory' argument is set as true but not supported on MPS now, then device pinned memory won't be used.\n",
      "  warnings.warn(warn_msg)\n",
      "/Users/maroon/.pyenv/versions/3.12.7/envs/tiny-model/lib/python3.12/site-packages/torch/utils/data/dataloader.py:683: UserWarning: 'pin_memory' argument is set as true but not supported on MPS now, then device pinned memory won't be used.\n",
      "  warnings.warn(warn_msg)\n",
      "/Users/maroon/.pyenv/versions/3.12.7/envs/tiny-model/lib/python3.12/site-packages/torch/utils/data/dataloader.py:683: UserWarning: 'pin_memory' argument is set as true but not supported on MPS now, then device pinned memory won't be used.\n",
      "  warnings.warn(warn_msg)\n",
      "/Users/maroon/.pyenv/versions/3.12.7/envs/tiny-model/lib/python3.12/site-packages/torch/utils/data/dataloader.py:683: UserWarning: 'pin_memory' argument is set as true but not supported on MPS now, then device pinned memory won't be used.\n",
      "  warnings.warn(warn_msg)\n",
      "/Users/maroon/.pyenv/versions/3.12.7/envs/tiny-model/lib/python3.12/site-packages/torch/utils/data/dataloader.py:683: UserWarning: 'pin_memory' argument is set as true but not supported on MPS now, then device pinned memory won't be used.\n",
      "  warnings.warn(warn_msg)\n",
      "/Users/maroon/.pyenv/versions/3.12.7/envs/tiny-model/lib/python3.12/site-packages/torch/utils/data/dataloader.py:683: UserWarning: 'pin_memory' argument is set as true but not supported on MPS now, then device pinned memory won't be used.\n",
      "  warnings.warn(warn_msg)\n",
      "/Users/maroon/.pyenv/versions/3.12.7/envs/tiny-model/lib/python3.12/site-packages/torch/utils/data/dataloader.py:683: UserWarning: 'pin_memory' argument is set as true but not supported on MPS now, then device pinned memory won't be used.\n",
      "  warnings.warn(warn_msg)\n",
      "/Users/maroon/.pyenv/versions/3.12.7/envs/tiny-model/lib/python3.12/site-packages/torch/utils/data/dataloader.py:683: UserWarning: 'pin_memory' argument is set as true but not supported on MPS now, then device pinned memory won't be used.\n",
      "  warnings.warn(warn_msg)\n",
      "/Users/maroon/.pyenv/versions/3.12.7/envs/tiny-model/lib/python3.12/site-packages/torch/utils/data/dataloader.py:683: UserWarning: 'pin_memory' argument is set as true but not supported on MPS now, then device pinned memory won't be used.\n",
      "  warnings.warn(warn_msg)\n",
      "/Users/maroon/.pyenv/versions/3.12.7/envs/tiny-model/lib/python3.12/site-packages/torch/utils/data/dataloader.py:683: UserWarning: 'pin_memory' argument is set as true but not supported on MPS now, then device pinned memory won't be used.\n",
      "  warnings.warn(warn_msg)\n",
      "/Users/maroon/.pyenv/versions/3.12.7/envs/tiny-model/lib/python3.12/site-packages/torch/utils/data/dataloader.py:683: UserWarning: 'pin_memory' argument is set as true but not supported on MPS now, then device pinned memory won't be used.\n",
      "  warnings.warn(warn_msg)\n",
      "/Users/maroon/.pyenv/versions/3.12.7/envs/tiny-model/lib/python3.12/site-packages/torch/utils/data/dataloader.py:683: UserWarning: 'pin_memory' argument is set as true but not supported on MPS now, then device pinned memory won't be used.\n",
      "  warnings.warn(warn_msg)\n",
      "/Users/maroon/.pyenv/versions/3.12.7/envs/tiny-model/lib/python3.12/site-packages/torch/utils/data/dataloader.py:683: UserWarning: 'pin_memory' argument is set as true but not supported on MPS now, then device pinned memory won't be used.\n",
      "  warnings.warn(warn_msg)\n"
     ]
    },
    {
     "data": {
      "text/plain": [
       "TrainOutput(global_step=680, training_loss=0.19824052628348857, metrics={'train_runtime': 31.1574, 'train_samples_per_second': 171.388, 'train_steps_per_second': 21.825, 'total_flos': 1730754662400.0, 'train_loss': 0.19824052628348857, 'epoch': 20.0})"
      ]
     },
     "execution_count": 42,
     "metadata": {},
     "output_type": "execute_result"
    }
   ],
   "source": [
    "# hyperparameters\n",
    "from transformers import Trainer\n",
    "\n",
    "trainer = Trainer(\n",
    "    model=peft_model,\n",
    "    args=TRAINING_ARGS,\n",
    "    train_dataset=train_tokenized_data,\n",
    "    eval_dataset=test_tokenized_data,\n",
    "    tokenizer=tokenizer,\n",
    "    compute_metrics=compute_metrics,\n",
    ")\n",
    "\n",
    "trainer.train()"
   ]
  },
  {
   "cell_type": "markdown",
   "id": "7a93ca12",
   "metadata": {},
   "source": [
    "## Test Fine-Tuned Model"
   ]
  },
  {
   "cell_type": "code",
   "execution_count": 51,
   "id": "4ce3b5e1",
   "metadata": {},
   "outputs": [
    {
     "name": "stderr",
     "output_type": "stream",
     "text": [
      "Device set to use mps:0\n"
     ]
    },
    {
     "name": "stdout",
     "output_type": "stream",
     "text": [
      "[{'label': 'payment', 'score': 0.9587512016296387}]\n"
     ]
    }
   ],
   "source": [
    "from transformers import pipeline\n",
    "\n",
    "classifier = pipeline(\"text-classification\", model=trainer.model, tokenizer=tokenizer, device=0 if device == \"cuda\" else -1)\n",
    "\n",
    "text_tests = [\n",
    "    \"Hi there, just sent you $1\",\n",
    "]\n",
    "\n",
    "outputs = classifier(text_tests)\n",
    "\n",
    "print(outputs)"
   ]
  },
  {
   "cell_type": "code",
   "execution_count": null,
   "id": "af2874c8",
   "metadata": {},
   "outputs": [],
   "source": [
    "# Push to Hugging Face Hub\n",
    "trainer.model.save_pretrained(\"maroon14/payment-related-seq-cls\", use_auth_token=settings.HUGGINGFACE_HUB_TOKEN)"
   ]
  }
 ],
 "metadata": {
  "kernelspec": {
   "display_name": "tiny-model",
   "language": "python",
   "name": "python3"
  },
  "language_info": {
   "codemirror_mode": {
    "name": "ipython",
    "version": 3
   },
   "file_extension": ".py",
   "mimetype": "text/x-python",
   "name": "python",
   "nbconvert_exporter": "python",
   "pygments_lexer": "ipython3",
   "version": "3.12.7"
  }
 },
 "nbformat": 4,
 "nbformat_minor": 5
}
